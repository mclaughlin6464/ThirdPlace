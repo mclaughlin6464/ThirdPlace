{
 "cells": [
  {
   "cell_type": "markdown",
   "metadata": {},
   "source": [
    "The gaia data is currently in a large list of gzip'd csvs. Why? Because astronomy. I'm glad it's not in fits files, frankly. I'm gonna first try putting in HDF5, which will be a marginal improvement. If that doesn't quite work we can always do a SQL database but that may be more trouble I\"m prepared to commit to. "
   ]
  },
  {
   "cell_type": "code",
   "execution_count": 1,
   "metadata": {},
   "outputs": [
    {
     "name": "stderr",
     "output_type": "stream",
     "text": [
      "/home/users/swmclau2/.local/lib/python2.7/site-packages/h5py/__init__.py:36: FutureWarning: Conversion of the second argument of issubdtype from `float` to `np.floating` is deprecated. In future, it will be treated as `np.float64 == np.dtype(float).type`.\n",
      "  from ._conv import register_converters as _register_converters\n"
     ]
    }
   ],
   "source": [
    "import numpy as np\n",
    "from os import path\n",
    "import pandas as pd\n",
    "from glob import glob"
   ]
  },
  {
   "cell_type": "code",
   "execution_count": 2,
   "metadata": {
    "collapsed": true
   },
   "outputs": [],
   "source": [
    "gaia_dir = '/oak/stanford/orgs/kipac/edarragh/gaiadr2'"
   ]
  },
  {
   "cell_type": "code",
   "execution_count": 3,
   "metadata": {
    "collapsed": true
   },
   "outputs": [],
   "source": [
    "ex_file = pd.read_csv(path.join(gaia_dir, 'GaiaSource_2024241623026358656_2024280144613411456.csv.gz'))"
   ]
  },
  {
   "cell_type": "code",
   "execution_count": 4,
   "metadata": {
    "collapsed": true
   },
   "outputs": [],
   "source": [
    "data_files = sorted(glob(path.join(gaia_dir, 'GaiaSource*.csv.gz')))"
   ]
  },
  {
   "cell_type": "code",
   "execution_count": 5,
   "metadata": {
    "collapsed": true
   },
   "outputs": [],
   "source": [
    "ra_bins = np.linspace(0, 360, 72+1)\n",
    "dec_bins = np.linspace(-90,90, 36+1)"
   ]
  },
  {
   "cell_type": "code",
   "execution_count": 7,
   "metadata": {
    "collapsed": true
   },
   "outputs": [],
   "source": [
    "f  = pd.HDFStore(path.join(gaia_dir, 'gaiadr2.hdf5'), 'w')"
   ]
  },
  {
   "cell_type": "code",
   "execution_count": 8,
   "metadata": {},
   "outputs": [
    {
     "name": "stdout",
     "output_type": "stream",
     "text": [
      "1 2 3 4 5 6 7 8 9 10 11 12 13 14 15 16 17 18 19 20 21 22 23 24 25 26 27 28 29 30 31 32 33 34 35 36 37 38 39 40 41 42 43 44 45 46 47 48 49 50 51 52 53 54 55 56 57 58 59 60 61 62 63 64 65 66 67 68 69 70 71 72 73 74 75 76 77 78 79 80 81 82 83 84 85 86 87 88 89 90 91 92 93 94 95 96 97 98 99 100 101\n"
     ]
    }
   ],
   "source": [
    "k = 0\n",
    "for d in data_files:\n",
    "    data = pd.read_csv(d)\n",
    "    for i, ra in enumerate(ra_bins[:-1]):\n",
    "        data_ra_slice = data[(data['ra']>=ra) & (data['ra']<ra_bins[i+1])]\n",
    "        if len(data_ra_slice) == 0:\n",
    "            continue\n",
    "        group_key = 'RA_%d_%d/'%(ra, ra_bins[i+1])\n",
    "        for j, dec in enumerate(dec_bins[:-1]):\n",
    "            data_ra_dec_slice = data_ra_slice[(data_ra_slice['dec']>=dec)\\\n",
    "                                         & (data_ra_slice['dec']<dec_bins[j+1])]\n",
    "            if len(data_ra_dec_slice)>0:\n",
    "                dset_key = 'DEC_%d_%d'%(dec, dec_bins[j+1])\n",
    "                f.put(group_key+dset_key, data_ra_dec_slice, format='table', append = True)\n",
    "\n",
    "    k+=1\n",
    "    print k,\n",
    "    if k>100:\n",
    "        break"
   ]
  },
  {
   "cell_type": "code",
   "execution_count": 9,
   "metadata": {
    "collapsed": true
   },
   "outputs": [],
   "source": [
    "f.close()"
   ]
  },
  {
   "cell_type": "code",
   "execution_count": null,
   "metadata": {
    "collapsed": true
   },
   "outputs": [],
   "source": []
  }
 ],
 "metadata": {
  "kernelspec": {
   "display_name": "Python 2",
   "language": "python",
   "name": "python2"
  },
  "language_info": {
   "codemirror_mode": {
    "name": "ipython",
    "version": 2
   },
   "file_extension": ".py",
   "mimetype": "text/x-python",
   "name": "python",
   "nbconvert_exporter": "python",
   "pygments_lexer": "ipython2",
   "version": "2.7.13"
  }
 },
 "nbformat": 4,
 "nbformat_minor": 2
}
