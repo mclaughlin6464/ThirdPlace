{
 "cells": [
  {
   "cell_type": "markdown",
   "metadata": {
    "collapsed": true
   },
   "source": [
    "Working with Elise to speed up the matching of true halos to observed mock Gaia stars. "
   ]
  },
  {
   "cell_type": "code",
   "execution_count": 1,
   "metadata": {
    "collapsed": true
   },
   "outputs": [],
   "source": [
    "import pandas as pd \n",
    "import numpy as np\n",
    "import h5py \n",
    "from itertools import izip\n",
    "import cPickle as pickle \n",
    "from collections import OrderedDict"
   ]
  },
  {
   "cell_type": "raw",
   "metadata": {},
   "source": [
    "parentid_dicts = []\n",
    "for j in range(10):\n",
    "    print j,\n",
    "    fname = '/oak/stanford/orgs/kipac/edarragh/m12i_lsr0/slice-%d.hdf5'%j\n",
    "    with h5py.File(fname, 'r') as f1:        \n",
    "        IDs = f1['parentid'][()]#[:N]\n",
    "        parentid_dicts.append(dict(izip(IDs, xrange(len(IDs)))))"
   ]
  },
  {
   "cell_type": "raw",
   "metadata": {},
   "source": [
    "with open('parentid_dicts.pkl', 'w') as f:\n",
    "    pickle.dump(parentid_dicts, f)"
   ]
  },
  {
   "cell_type": "code",
   "execution_count": 2,
   "metadata": {
    "collapsed": true
   },
   "outputs": [],
   "source": [
    "with open('parentid_dicts.pkl', 'r') as f:\n",
    "    parentid_dicts = pickle.load(f)"
   ]
  },
  {
   "cell_type": "code",
   "execution_count": 9,
   "metadata": {},
   "outputs": [
    {
     "name": "stdout",
     "output_type": "stream",
     "text": [
      " 5 6 7 8 9 10 11 12 13 14 15 16 17 18 19 20 21 22 23 24 25 26 27 28 29 30 31 32 33 34 35 36 37 38 39 40 41 42 43 44 45 46 47 48 49 50 51 52 53 54 55 56 57 58 59 60 61 62 63 64 65 66 67 68 69 70 71 72 73 74 75 76 77 78 79 80 81 82 83 84 85 86 87 88 89 90 91 92 93 94 95 96 97 98 99 100 101 102 103 104 105 106 107 108 109 110 111 112 113 114 115 116 117 118 119 120 121 122 123 124 125 126 127 128 129 130 131 132 133 134 135 136 137 138 139 140 141 142 143 144 145 146 147 148 149 150 151 152 153 154 155 156 157 158 159 160 161 162 163 164 165 166 167 168 169 170 171 172 173 174 175 176 177 178 179 180 181 182 183 184 185 186 187 188 189 190 191 192 193 194 195 196 197 198 199 200 201 202 203 204\n"
     ]
    }
   ],
   "source": [
    "mask_dict = OrderedDict()\n",
    "#i = 5\n",
    "for i in xrange(5, 205): #, 600):\n",
    "    print i,\n",
    "    fname = '/oak/stanford/orgs/kipac/users/enadler/m12i_rockstar_dm/catalog_hdf5/star_%03d.hdf5'%i\n",
    "\n",
    "    with h5py.File(fname, 'r') as f:\n",
    "        mask = np.array(f['star.number']) != -1\n",
    "        ar = np.array(f['star.indices'])[mask]\n",
    "        halo_ID = np.array(f['id'])[mask]\n",
    "\n",
    "        for k, stars in enumerate(ar):\n",
    "            key = halo_ID[k]\n",
    "            mask_dict[key] = []\n",
    "            for j in xrange(10):\n",
    "                mask1 = [parentid_dicts[j][s] for s in stars if s in parentid_dicts[j]]\n",
    "                mask_dict[key].append(mask1)"
   ]
  },
  {
   "cell_type": "code",
   "execution_count": 10,
   "metadata": {},
   "outputs": [
    {
     "name": "stdout",
     "output_type": "stream",
     "text": [
      "17376\n"
     ]
    }
   ],
   "source": [
    "print len(mask_dict)"
   ]
  },
  {
   "cell_type": "raw",
   "metadata": {},
   "source": [
    "with open('mask_dict.pkl', 'w') as f:\n",
    "    pickle.dump(mask_dict, f)"
   ]
  },
  {
   "cell_type": "code",
   "execution_count": 11,
   "metadata": {
    "collapsed": true
   },
   "outputs": [],
   "source": [
    "keys= ['ra_true', 'dec_true', 'pmra_true', 'pmdec_true', 'parallax_true', 'b_true']"
   ]
  },
  {
   "cell_type": "code",
   "execution_count": 12,
   "metadata": {
    "collapsed": true
   },
   "outputs": [],
   "source": [
    "mean_vals = np.zeros((len(mask_dict.keys()), len(keys)))"
   ]
  },
  {
   "cell_type": "code",
   "execution_count": null,
   "metadata": {},
   "outputs": [],
   "source": [
    "for j in range(10):\n",
    "    fname1 = '/oak/stanford/orgs/kipac/edarragh/m12i_lsr0/slice-%d.hdf5'%j\n",
    "    print '*'*10\n",
    "    if not any([v[j] for v in mask_dict.itervalues()]):\n",
    "        continue # don't load this file if there's nothing in them \n",
    "    with h5py.File(fname1, 'r') as f1:\n",
    "        for k_no, k in enumerate(keys):\n",
    "            print '~'*10\n",
    "            val = f1[k][()] # this is a slow disk read\n",
    "            \n",
    "            for obj_no, (obj_key, obj_mask) in enumerate(mask_dict.iteritems()):\n",
    "                print j, k_no, obj_no\n",
    "                if len(obj_mask)==0 or len(obj_mask[j]) == 0:\n",
    "                    continue\n",
    "                #print j, k_no, obj_no\n",
    "                mean_vals[obj_no, k_no] = val[obj_mask[j]].mean()\n",
    "            del val"
   ]
  },
  {
   "cell_type": "code",
   "execution_count": null,
   "metadata": {
    "collapsed": true
   },
   "outputs": [],
   "source": [
    "np.save('mean_vals.npy', mean_vals)"
   ]
  }
 ],
 "metadata": {
  "kernelspec": {
   "display_name": "Python 2",
   "language": "python",
   "name": "python2"
  },
  "language_info": {
   "codemirror_mode": {
    "name": "ipython",
    "version": 2
   },
   "file_extension": ".py",
   "mimetype": "text/x-python",
   "name": "python",
   "nbconvert_exporter": "python",
   "pygments_lexer": "ipython2",
   "version": "2.7.13"
  }
 },
 "nbformat": 4,
 "nbformat_minor": 2
}
