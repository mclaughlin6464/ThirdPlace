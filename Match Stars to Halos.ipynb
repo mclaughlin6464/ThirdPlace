{
 "cells": [
  {
   "cell_type": "markdown",
   "metadata": {
    "collapsed": true
   },
   "source": [
    "Working with Elise to speed up the matching of true halos to observed mock Gaia stars. "
   ]
  },
  {
   "cell_type": "code",
   "execution_count": 3,
   "metadata": {
    "collapsed": true
   },
   "outputs": [],
   "source": [
    "import pandas as pd \n",
    "import numpy as np\n",
    "import h5py \n",
    "from itertools import izip\n",
    "import cPickle as pickle \n",
    "from collections import OrderedDict"
   ]
  },
  {
   "cell_type": "raw",
   "metadata": {},
   "source": [
    "#parentid_dicts = []\n",
    "for j in range(10):\n",
    "    print j\n",
    "    fname = '/oak/stanford/orgs/kipac/edarragh/m12i_lsr0/slice-%d.hdf5'%j\n",
    "    with h5py.File(fname, 'r') as f1:        \n",
    "        IDs = f1['parentid'][()]#[:N]\n",
    "        pid_d = dict()\n",
    "        \n",
    "        for i, ID in enumerate(IDs):\n",
    "            if ID in pid_d:\n",
    "                pid_d[ID][1] = i # this assumes its one continuous patch. \n",
    "                # if not, there could be workaroudns 0\n",
    "            else:\n",
    "                pid_d[ID] = np.array([i, i+1])\n",
    "\n",
    "        #parentid_dicts.append(pid_d) #dict(izip(IDs, xrange(len(IDs)))))\n",
    "        \n",
    "        with open('/home/users/swmclau2/scratch/parentid_dict_%d.pkl'%j, 'w') as f:\n",
    "            pickle.dump(pid_d, f)"
   ]
  },
  {
   "cell_type": "raw",
   "metadata": {
    "collapsed": true
   },
   "source": [
    "with open('parentid_dicts.pkl', 'w') as f:\n",
    "    pickle.dump(parentid_dicts, f)"
   ]
  },
  {
   "cell_type": "raw",
   "metadata": {
    "collapsed": true
   },
   "source": [
    "with open('parentid_dicts.pkl', 'r') as f:\n",
    "    parentid_dicts = pickle.load(f)"
   ]
  },
  {
   "cell_type": "markdown",
   "metadata": {},
   "source": [
    "if mask_dict becomes too large, may need to save several, like above. Then when you switch from one to the next, you need to add the length of the previous to the indexing  to mean_vals"
   ]
  },
  {
   "cell_type": "code",
   "execution_count": 17,
   "metadata": {},
   "outputs": [
    {
     "name": "stdout",
     "output_type": "stream",
     "text": [
      "j 0\n",
      "i 5\n",
      "0 1 2 3\n",
      "**********\n",
      "i 6\n",
      "0 1 2 3 4\n",
      "**********\n",
      "i 7\n",
      "0 1 2 3 4 5 6 7 8\n",
      "**********\n",
      "i 8\n",
      "0 1 2 3 4 5 6 7 8\n",
      "**********\n",
      "i 9\n",
      "0 1 2 3 4 5 6 7 8 9 10 11 12\n",
      "**********\n",
      "j 1\n",
      "i 5\n",
      "0 1 2 3\n",
      "**********\n",
      "i 6\n",
      "0 1 2 3 4\n",
      "**********\n",
      "i 7\n",
      "0 1 2 3 4 5 6 7 8\n",
      "**********\n",
      "i 8\n",
      "0 1 2 3 4 5 6 7 8\n",
      "**********\n",
      "i 9\n",
      "0 1 2 3 4 5 6 7 8 9 10 11 12\n",
      "**********\n",
      "j 2\n",
      "i 5\n",
      "0 1 2 3\n",
      "**********\n",
      "i 6\n",
      "0 1 2 3 4\n",
      "**********\n",
      "i 7\n",
      "0 1 2 3 4 5 6 7 8\n",
      "**********\n",
      "i 8\n",
      "0 1 2 3 4 5 6 7 8\n",
      "**********\n",
      "i 9\n",
      "0 1 2 3 4 5 6 7 8 9 10 11 12\n",
      "**********\n",
      "j 3\n",
      "i 5\n",
      "0 1 2 3\n",
      "**********\n",
      "i 6\n",
      "0 1 2 3 4\n",
      "**********\n",
      "i 7\n",
      "0 1 2 3 4 5 6 7 8\n",
      "**********\n",
      "i 8\n",
      "0 1 2 3 4 5 6 7 8\n",
      "**********\n",
      "i 9\n",
      "0 1 2 3 4 5 6 7 8 9 10 11 12\n",
      "**********\n",
      "j 4\n",
      "i 5\n",
      "0 1 2 3\n",
      "**********\n",
      "i 6\n",
      "0 1 2 3 4\n",
      "**********\n",
      "i 7\n",
      "0 1 2 3 4 5 6 7 8\n",
      "**********\n",
      "i 8\n",
      "0 1 2 3 4 5 6 7 8\n",
      "**********\n",
      "i 9\n",
      "0 1 2 3 4 5 6 7 8 9 10 11 12\n",
      "**********\n",
      "j 5\n",
      "i 5\n",
      "0 1 2 3\n",
      "**********\n",
      "i 6\n",
      "0 1 2 3 4\n",
      "**********\n",
      "i 7\n",
      "0 1 2 3 4 5 6 7 8\n",
      "**********\n",
      "i 8\n",
      "0 1 2 3 4 5 6 7 8\n",
      "**********\n",
      "i 9\n",
      "0 1 2 3 4 5 6 7 8 9 10 11 12\n",
      "**********\n",
      "j 6\n",
      "i 5\n",
      "0 1 2 3\n",
      "**********\n",
      "i 6\n",
      "0 1 2 3 4\n",
      "**********\n",
      "i 7\n",
      "0 1 2 3 4 5 6 7 8\n",
      "**********\n",
      "i 8\n",
      "0 1 2 3 4 5 6 7 8\n",
      "**********\n",
      "i 9\n",
      "0 1 2 3 4 5 6 7 8 9 10 11 12\n",
      "**********\n",
      "j 7\n",
      "i 5\n",
      "0 1 2 3\n",
      "**********\n",
      "i 6\n",
      "0 1 2 3 4\n",
      "**********\n",
      "i 7\n",
      "0 1 2 3 4 5 6 7 8\n",
      "**********\n",
      "i 8\n",
      "0 1 2 3 4 5 6 7 8\n",
      "**********\n",
      "i 9\n",
      "0 1 2 3 4 5 6 7 8 9 10 11 12\n",
      "**********\n",
      "j 8\n",
      "i 5\n",
      "0 1 2 3\n",
      "**********\n",
      "i 6\n",
      "0 1 2 3 4\n",
      "**********\n",
      "i 7\n",
      "0 1 2 3 4 5 6 7 8\n",
      "**********\n",
      "i 8\n",
      "0 1 2 3 4 5 6 7 8\n",
      "**********\n",
      "i 9\n",
      "0 1 2 3 4 5 6 7 8 9 10 11 12\n",
      "**********\n",
      "j 9\n",
      "i 5\n",
      "0 1 2 3\n",
      "**********\n",
      "i 6\n",
      "0 1 2 3 4\n",
      "**********\n",
      "i 7\n",
      "0 1 2 3 4 5 6 7 8\n",
      "**********\n",
      "i 8\n",
      "0 1 2 3 4 5 6 7 8\n",
      "**********\n",
      "i 9\n",
      "0 1 2 3 4 5 6 7 8 9 10 11 12\n",
      "**********\n"
     ]
    }
   ],
   "source": [
    "mask_dict = OrderedDict()\n",
    "#i = 5\n",
    "for j in xrange(10):\n",
    "    print 'j',j\n",
    "    with open('/home/users/swmclau2/scratch/parentid_dict_%d.pkl'%j, 'r') as f:\n",
    "        parentid_dict = pickle.load(f)\n",
    "        \n",
    "    for i in xrange(5, 10): #, 600):\n",
    "        print 'i',i\n",
    "        fname = '/oak/stanford/orgs/kipac/users/enadler/m12i_rockstar_dm/catalog_hdf5/star_%03d.hdf5'%i\n",
    "\n",
    "        with h5py.File(fname, 'r') as f:\n",
    "            mask = np.array(f['star.number']) != -1\n",
    "            ar = np.array(f['star.indices'])[mask]\n",
    "            halo_ID = np.array(f['id'])[mask]\n",
    "\n",
    "            #for k, stars in enumerate(ar):\n",
    "            #    key = halo_ID[k]\n",
    "            #    mask_dict[key] = []\n",
    "            #    for j in xrange(10):\n",
    "            #        mask1 = [parentid_dicts[j][s] for s in stars if s in parentid_dicts[j]]\n",
    "            #        mask_dict[key].append(mask1)\n",
    "\n",
    "\n",
    "            for k, stars in enumerate(ar):\n",
    "                print k,\n",
    "                key = halo_ID[k]\n",
    "                if key not in mask_dict:\n",
    "                    mask_dict[key] = [[] for _ in xrange(10)]\n",
    "                \n",
    "                mask1 = [parentid_dict[s] for s in stars if s in parentid_dict]\n",
    "                if len(mask1)>0:\n",
    "                    mask_dict[key][j].extend(mask1)\n",
    "            print\n",
    "            print '*'*10"
   ]
  },
  {
   "cell_type": "code",
   "execution_count": 18,
   "metadata": {},
   "outputs": [
    {
     "name": "stdout",
     "output_type": "stream",
     "text": [
      "36\n"
     ]
    }
   ],
   "source": [
    "print len(mask_dict)"
   ]
  },
  {
   "cell_type": "code",
   "execution_count": 19,
   "metadata": {
    "collapsed": true
   },
   "outputs": [],
   "source": [
    "with open('/home/users/swmclau2/scratch/mask_dict.pkl', 'w') as f:\n",
    "    pickle.dump(mask_dict, f)"
   ]
  },
  {
   "cell_type": "code",
   "execution_count": 20,
   "metadata": {
    "collapsed": true
   },
   "outputs": [],
   "source": [
    "keys= ['ra_true', 'dec_true', 'pmra_true', 'pmdec_true', 'parallax_true', 'b_true']"
   ]
  },
  {
   "cell_type": "code",
   "execution_count": 21,
   "metadata": {
    "collapsed": true
   },
   "outputs": [],
   "source": [
    "mean_vals = np.zeros((len(mask_dict.keys()), len(keys)))"
   ]
  },
  {
   "cell_type": "raw",
   "metadata": {},
   "source": [
    "print mask_dict.values()"
   ]
  },
  {
   "cell_type": "code",
   "execution_count": 31,
   "metadata": {},
   "outputs": [
    {
     "name": "stdout",
     "output_type": "stream",
     "text": [
      "**********\n",
      "**********\n",
      "**********\n",
      "**********\n",
      "**********\n",
      "**********\n",
      "**********\n",
      "**********\n",
      "**********\n",
      "**********\n",
      "~~~~~~~~~~ 0 ~~~~~~~~~~\n",
      "0 0\n",
      "1 1\n",
      "2 2\n",
      "3 3\n",
      "4 []\n",
      "5 5\n",
      "6 6\n",
      "7 7\n",
      "8 8\n",
      "9 9\n",
      "10 10\n",
      "11 11\n",
      "12 []\n",
      "13 13\n",
      "14 14\n",
      "15 []\n",
      "16 16\n",
      "17 17\n",
      "18 18\n",
      "19 19\n",
      "20 20\n",
      "21 21\n",
      "22 22\n",
      "23 23\n",
      "24 24\n",
      "25 25\n",
      "26 26\n",
      "27 27\n",
      "28 28\n",
      "29 []\n",
      "30 30\n",
      "31 []\n",
      "32 32\n",
      "33 33\n",
      "34 []\n",
      "35 []\n",
      "~~~~~~~~~~ 1 ~~~~~~~~~~\n",
      "0 0\n",
      "1 1\n",
      "2 2\n",
      "3 3\n",
      "4 []\n",
      "5 5\n",
      "6 6\n",
      "7 7\n",
      "8 8\n",
      "9 9\n",
      "10 10\n",
      "11 11\n",
      "12 []\n",
      "13 13\n",
      "14 14\n",
      "15 []\n",
      "16 16\n",
      "17 17\n",
      "18 18\n",
      "19 19\n",
      "20 20\n",
      "21 21\n",
      "22 22\n",
      "23 23\n",
      "24 24\n",
      "25 25\n",
      "26 26\n",
      "27 27\n",
      "28 28\n",
      "29 []\n",
      "30 30\n",
      "31 []\n",
      "32 32\n",
      "33 33\n",
      "34 []\n",
      "35 []\n",
      "~~~~~~~~~~ 2 ~~~~~~~~~~\n",
      "0 0\n",
      "1 1\n",
      "2 2\n",
      "3 3\n",
      "4 []\n",
      "5 5\n",
      "6 6\n",
      "7 7\n",
      "8 8\n",
      "9 9\n",
      "10 10\n",
      "11 11\n",
      "12 []\n",
      "13 13\n",
      "14 14\n",
      "15 []\n",
      "16 16\n",
      "17 17\n",
      "18 18\n",
      "19 19\n",
      "20 20\n",
      "21 21\n",
      "22 22\n",
      "23 23\n",
      "24 24\n",
      "25 25\n",
      "26 26\n",
      "27 27\n",
      "28 28\n",
      "29 []\n",
      "30 30\n",
      "31 []\n",
      "32 32\n",
      "33 33\n",
      "34 []\n",
      "35 []\n",
      "~~~~~~~~~~ 3 ~~~~~~~~~~\n",
      "0 0\n",
      "1 1\n",
      "2 2\n",
      "3 3\n",
      "4 []\n",
      "5 5\n",
      "6 6\n",
      "7 7\n",
      "8 8\n",
      "9 9\n",
      "10 10\n",
      "11 11\n",
      "12 []\n",
      "13 13\n",
      "14 14\n",
      "15 []\n",
      "16 16\n",
      "17 17\n",
      "18 18\n",
      "19 19\n",
      "20 20\n",
      "21 21\n",
      "22 22\n",
      "23 23\n",
      "24 24\n",
      "25 25\n",
      "26 26\n",
      "27 27\n",
      "28 28\n",
      "29 []\n",
      "30 30\n",
      "31 []\n",
      "32 32\n",
      "33 33\n",
      "34 []\n",
      "35 []\n",
      "~~~~~~~~~~ 4 ~~~~~~~~~~\n"
     ]
    },
    {
     "ename": "KeyboardInterrupt",
     "evalue": "",
     "output_type": "error",
     "traceback": [
      "\u001b[0;31m\u001b[0m",
      "\u001b[0;31mKeyboardInterrupt\u001b[0mTraceback (most recent call last)",
      "\u001b[0;32m<ipython-input-31-893b922c1a47>\u001b[0m in \u001b[0;36m<module>\u001b[0;34m()\u001b[0m\n\u001b[1;32m      7\u001b[0m         \u001b[0;32mfor\u001b[0m \u001b[0mk_no\u001b[0m\u001b[0;34m,\u001b[0m \u001b[0mk\u001b[0m \u001b[0;32min\u001b[0m \u001b[0menumerate\u001b[0m\u001b[0;34m(\u001b[0m\u001b[0mkeys\u001b[0m\u001b[0;34m)\u001b[0m\u001b[0;34m:\u001b[0m\u001b[0;34m\u001b[0m\u001b[0m\n\u001b[1;32m      8\u001b[0m             \u001b[0;32mprint\u001b[0m \u001b[0;34m'~'\u001b[0m\u001b[0;34m*\u001b[0m\u001b[0;36m10\u001b[0m\u001b[0;34m,\u001b[0m \u001b[0mk_no\u001b[0m\u001b[0;34m,\u001b[0m \u001b[0;34m'~'\u001b[0m\u001b[0;34m*\u001b[0m\u001b[0;36m10\u001b[0m\u001b[0;34m\u001b[0m\u001b[0m\n\u001b[0;32m----> 9\u001b[0;31m             \u001b[0mval\u001b[0m \u001b[0;34m=\u001b[0m \u001b[0mf1\u001b[0m\u001b[0;34m[\u001b[0m\u001b[0mk\u001b[0m\u001b[0;34m]\u001b[0m\u001b[0;34m[\u001b[0m\u001b[0;34m(\u001b[0m\u001b[0;34m)\u001b[0m\u001b[0;34m]\u001b[0m \u001b[0;31m# this is a slow disk read\u001b[0m\u001b[0;34m\u001b[0m\u001b[0m\n\u001b[0m\u001b[1;32m     10\u001b[0m \u001b[0;34m\u001b[0m\u001b[0m\n\u001b[1;32m     11\u001b[0m             \u001b[0;32mfor\u001b[0m \u001b[0mobj_no\u001b[0m\u001b[0;34m,\u001b[0m \u001b[0;34m(\u001b[0m\u001b[0mobj_key\u001b[0m\u001b[0;34m,\u001b[0m \u001b[0mobj_mask\u001b[0m\u001b[0;34m)\u001b[0m \u001b[0;32min\u001b[0m \u001b[0menumerate\u001b[0m\u001b[0;34m(\u001b[0m\u001b[0mmask_dict\u001b[0m\u001b[0;34m.\u001b[0m\u001b[0miteritems\u001b[0m\u001b[0;34m(\u001b[0m\u001b[0;34m)\u001b[0m\u001b[0;34m)\u001b[0m\u001b[0;34m:\u001b[0m\u001b[0;34m\u001b[0m\u001b[0m\n",
      "\u001b[0;32mh5py/_objects.pyx\u001b[0m in \u001b[0;36mh5py._objects.with_phil.wrapper\u001b[0;34m()\u001b[0m\n",
      "\u001b[0;32mh5py/_objects.pyx\u001b[0m in \u001b[0;36mh5py._objects.with_phil.wrapper\u001b[0;34m()\u001b[0m\n",
      "\u001b[0;32m/home/users/swmclau2/.local/lib/python2.7/site-packages/h5py/_hl/dataset.pyc\u001b[0m in \u001b[0;36m__getitem__\u001b[0;34m(self, args)\u001b[0m\n\u001b[1;32m    494\u001b[0m         \u001b[0mmspace\u001b[0m \u001b[0;34m=\u001b[0m \u001b[0mh5s\u001b[0m\u001b[0;34m.\u001b[0m\u001b[0mcreate_simple\u001b[0m\u001b[0;34m(\u001b[0m\u001b[0mmshape\u001b[0m\u001b[0;34m)\u001b[0m\u001b[0;34m\u001b[0m\u001b[0m\n\u001b[1;32m    495\u001b[0m         \u001b[0mfspace\u001b[0m \u001b[0;34m=\u001b[0m \u001b[0mselection\u001b[0m\u001b[0;34m.\u001b[0m\u001b[0mid\u001b[0m\u001b[0;34m\u001b[0m\u001b[0m\n\u001b[0;32m--> 496\u001b[0;31m         \u001b[0mself\u001b[0m\u001b[0;34m.\u001b[0m\u001b[0mid\u001b[0m\u001b[0;34m.\u001b[0m\u001b[0mread\u001b[0m\u001b[0;34m(\u001b[0m\u001b[0mmspace\u001b[0m\u001b[0;34m,\u001b[0m \u001b[0mfspace\u001b[0m\u001b[0;34m,\u001b[0m \u001b[0marr\u001b[0m\u001b[0;34m,\u001b[0m \u001b[0mmtype\u001b[0m\u001b[0;34m,\u001b[0m \u001b[0mdxpl\u001b[0m\u001b[0;34m=\u001b[0m\u001b[0mself\u001b[0m\u001b[0;34m.\u001b[0m\u001b[0m_dxpl\u001b[0m\u001b[0;34m)\u001b[0m\u001b[0;34m\u001b[0m\u001b[0m\n\u001b[0m\u001b[1;32m    497\u001b[0m \u001b[0;34m\u001b[0m\u001b[0m\n\u001b[1;32m    498\u001b[0m         \u001b[0;31m# Patch up the output for NumPy\u001b[0m\u001b[0;34m\u001b[0m\u001b[0;34m\u001b[0m\u001b[0m\n",
      "\u001b[0;31mKeyboardInterrupt\u001b[0m: "
     ]
    }
   ],
   "source": [
    "for j in range(10):\n",
    "    fname1 = '/oak/stanford/orgs/kipac/edarragh/m12i_lsr0/slice-%d.hdf5'%j\n",
    "    print '*'*10\n",
    "    if not any([v[j] for v in mask_dict.itervalues()]):\n",
    "        continue # don't load this file if there's nothing in them \n",
    "    with h5py.File(fname1, 'r') as f1:\n",
    "        for k_no, k in enumerate(keys):\n",
    "            print '~'*10, k_no, '~'*10\n",
    "            val = f1[k][()] # this is a slow disk read\n",
    "            \n",
    "            for obj_no, (obj_key, obj_mask) in enumerate(mask_dict.iteritems()):\n",
    "                print obj_no,\n",
    "                if len(obj_mask)==0 or len(obj_mask[j]) == 0:\n",
    "                    print obj_mask[j]\n",
    "                    continue\n",
    "                print obj_no\n",
    "                #print obj_mask[j]\n",
    "                #print j, k_no, obj_no\n",
    "                #mean_vals[obj_no, k_no] = val[obj_mask[j]].mean()\n",
    "                mean_vals[obj_no, k_no] = np.mean([val[om[0]:om[1]].mean() for om in obj_mask[j]])\n",
    "\n",
    "            del val\n",
    "            break"
   ]
  },
  {
   "cell_type": "code",
   "execution_count": 24,
   "metadata": {},
   "outputs": [
    {
     "data": {
      "text/plain": [
       "36"
      ]
     },
     "execution_count": 24,
     "metadata": {},
     "output_type": "execute_result"
    }
   ],
   "source": [
    "len(mask_dict)"
   ]
  },
  {
   "cell_type": "code",
   "execution_count": 29,
   "metadata": {},
   "outputs": [
    {
     "data": {
      "text/plain": [
       "array([ 0.,  0.,  0.,  0.,  0.,  0.])"
      ]
     },
     "execution_count": 29,
     "metadata": {},
     "output_type": "execute_result"
    }
   ],
   "source": [
    "mean_vals[4]"
   ]
  },
  {
   "cell_type": "code",
   "execution_count": 26,
   "metadata": {
    "collapsed": true
   },
   "outputs": [],
   "source": [
    "np.save('mean_vals.npy', mean_vals)"
   ]
  },
  {
   "cell_type": "code",
   "execution_count": null,
   "metadata": {
    "collapsed": true
   },
   "outputs": [],
   "source": []
  }
 ],
 "metadata": {
  "kernelspec": {
   "display_name": "Python 2",
   "language": "python",
   "name": "python2"
  },
  "language_info": {
   "codemirror_mode": {
    "name": "ipython",
    "version": 2
   },
   "file_extension": ".py",
   "mimetype": "text/x-python",
   "name": "python",
   "nbconvert_exporter": "python",
   "pygments_lexer": "ipython2",
   "version": "2.7.13"
  }
 },
 "nbformat": 4,
 "nbformat_minor": 2
}
